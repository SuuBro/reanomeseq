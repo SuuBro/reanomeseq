{
 "cells": [
  {
   "cell_type": "code",
   "execution_count": 26,
   "metadata": {},
   "outputs": [],
   "source": [
    "import reapy\n",
    "api = reapy.reascript_api"
   ]
  },
  {
   "cell_type": "code",
   "execution_count": 61,
   "metadata": {},
   "outputs": [],
   "source": [
    "api.StuffMIDIMessage(2, 147, 41, 96)"
   ]
  },
  {
   "cell_type": "code",
   "execution_count": 60,
   "metadata": {},
   "outputs": [],
   "source": [
    "track = api.GetSelectedTrack(0, 0)\n",
    "recarm = api.SetMediaTrackInfo_Value(track, \"I_RECARM\", 1)\n",
    "recmon = api.SetMediaTrackInfo_Value(track, \"I_RECMON\", 1)\n",
    "#recinput = api.SetMediaTrackInfo_Value(track, \"I_RECINPUT\", 4096+tonumber('111111'..'00000',2))"
   ]
  },
  {
   "cell_type": "code",
   "execution_count": 5,
   "metadata": {},
   "outputs": [],
   "source": []
  },
  {
   "cell_type": "code",
   "execution_count": 6,
   "metadata": {},
   "outputs": [
    {
     "data": {
      "text/plain": [
       "'(MediaItem_Take*)0x00000000057112D0'"
      ]
     },
     "execution_count": 6,
     "metadata": {},
     "output_type": "execute_result"
    }
   ],
   "source": [
    "take = api.GetTake(mediaItem, 0)\n",
    "take"
   ]
  },
  {
   "cell_type": "code",
   "execution_count": 30,
   "metadata": {},
   "outputs": [
    {
     "name": "stdout",
     "output_type": "stream",
     "text": [
      "0 48 127 0.0->3840.0\n"
     ]
    }
   ],
   "source": [
    "_, _, n, cc, sysex  = api.MIDI_CountEvts(take, 0, 0, 0)\n",
    "\n",
    "for i in range(0, n):\n",
    "    ok, take, i, selected, muted, start, end, chan, pitch, vel = api.MIDI_GetNote(take, i, False, False, 0, 1, 0, 0, 0)\n",
    "    print(f'{chan} {pitch} {vel} {start}->{end}')"
   ]
  },
  {
   "cell_type": "code",
   "execution_count": 40,
   "metadata": {},
   "outputs": [
    {
     "ename": "AttributeError",
     "evalue": "'str' object has no attribute 'notes'",
     "output_type": "error",
     "traceback": [
      "\u001b[1;31m---------------------------------------------------------------------------\u001b[0m",
      "\u001b[1;31mAttributeError\u001b[0m                            Traceback (most recent call last)",
      "\u001b[1;32mUntitled-1.ipynb Cell 7'\u001b[0m in \u001b[0;36m<cell line: 1>\u001b[1;34m()\u001b[0m\n\u001b[1;32m----> <a href='vscode-notebook-cell:Untitled-1.ipynb?jupyter-notebook#ch0000006untitled?line=0'>1</a>\u001b[0m take\u001b[39m.\u001b[39;49mnotes\n",
      "\u001b[1;31mAttributeError\u001b[0m: 'str' object has no attribute 'notes'"
     ]
    }
   ],
   "source": []
  },
  {
   "cell_type": "code",
   "execution_count": 35,
   "metadata": {},
   "outputs": [
    {
     "data": {
      "text/plain": [
       "'(MediaItem_Take*)0x00000000057112D0'"
      ]
     },
     "execution_count": 35,
     "metadata": {},
     "output_type": "execute_result"
    }
   ],
   "source": []
  }
 ],
 "metadata": {
  "kernelspec": {
   "display_name": "Python 3.10.4 64-bit",
   "language": "python",
   "name": "python3"
  },
  "language_info": {
   "codemirror_mode": {
    "name": "ipython",
    "version": 3
   },
   "file_extension": ".py",
   "mimetype": "text/x-python",
   "name": "python",
   "nbconvert_exporter": "python",
   "pygments_lexer": "ipython3",
   "version": "3.10.4"
  },
  "orig_nbformat": 4,
  "vscode": {
   "interpreter": {
    "hash": "d3e10ef16274dd72e574b8fa73b58450b957d8421a2901baded3cca26fcf5dda"
   }
  }
 },
 "nbformat": 4,
 "nbformat_minor": 2
}
