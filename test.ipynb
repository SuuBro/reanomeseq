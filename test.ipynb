{
 "cells": [
  {
   "cell_type": "code",
   "execution_count": 2,
   "metadata": {},
   "outputs": [],
   "source": [
    "import reapy\n",
    "api = reapy.reascript_api"
   ]
  },
  {
   "cell_type": "code",
   "execution_count": 21,
   "metadata": {},
   "outputs": [
    {
     "name": "stdout",
     "output_type": "stream",
     "text": [
      "{'selected': False, 'muted': False, 'start': 1.25, 'end': 1.75, 'channel': 0, 'pitch': 48, 'velocity': 1}\n",
      "{'selected': False, 'muted': False, 'start': 1.25, 'end': 1.5, 'channel': 0, 'pitch': 59, 'velocity': 127}\n",
      "{'selected': False, 'muted': False, 'start': 0.25, 'end': 0.5, 'channel': 0, 'pitch': 48, 'velocity': 1}\n",
      "{'selected': True, 'muted': False, 'start': 0.0625, 'end': 1.0625, 'channel': 0, 'pitch': 59, 'velocity': 127}\n"
     ]
    }
   ],
   "source": [
    "with reapy.inside_reaper():\n",
    "    take2 = reapy.Project().tracks[0].items[0].takes[0]\n",
    "    for note in reversed(take2.notes):\n",
    "        print(note.infos)\n",
    "    "
   ]
  },
  {
   "cell_type": "code",
   "execution_count": 3,
   "metadata": {},
   "outputs": [],
   "source": [
    "track = api.GetSelectedTrack(0, 0)"
   ]
  },
  {
   "cell_type": "code",
   "execution_count": 5,
   "metadata": {},
   "outputs": [],
   "source": [
    "mediaItem = api.GetMediaItem(reapy.Project(), 0)"
   ]
  },
  {
   "cell_type": "code",
   "execution_count": 6,
   "metadata": {},
   "outputs": [
    {
     "data": {
      "text/plain": [
       "'(MediaItem_Take*)0x00000000057112D0'"
      ]
     },
     "execution_count": 6,
     "metadata": {},
     "output_type": "execute_result"
    }
   ],
   "source": [
    "take = api.GetTake(mediaItem, 0)\n",
    "take"
   ]
  },
  {
   "cell_type": "code",
   "execution_count": 30,
   "metadata": {},
   "outputs": [
    {
     "name": "stdout",
     "output_type": "stream",
     "text": [
      "0 48 127 0.0->3840.0\n"
     ]
    }
   ],
   "source": [
    "_, _, n, cc, sysex  = api.MIDI_CountEvts(take, 0, 0, 0)\n",
    "\n",
    "for i in range(0, n):\n",
    "    ok, take, i, selected, muted, start, end, chan, pitch, vel = api.MIDI_GetNote(take, i, False, False, 0, 1, 0, 0, 0)\n",
    "    print(f'{chan} {pitch} {vel} {start}->{end}')"
   ]
  },
  {
   "cell_type": "code",
   "execution_count": 40,
   "metadata": {},
   "outputs": [
    {
     "ename": "AttributeError",
     "evalue": "'str' object has no attribute 'notes'",
     "output_type": "error",
     "traceback": [
      "\u001b[1;31m---------------------------------------------------------------------------\u001b[0m",
      "\u001b[1;31mAttributeError\u001b[0m                            Traceback (most recent call last)",
      "\u001b[1;32mUntitled-1.ipynb Cell 7'\u001b[0m in \u001b[0;36m<cell line: 1>\u001b[1;34m()\u001b[0m\n\u001b[1;32m----> <a href='vscode-notebook-cell:Untitled-1.ipynb?jupyter-notebook#ch0000006untitled?line=0'>1</a>\u001b[0m take\u001b[39m.\u001b[39;49mnotes\n",
      "\u001b[1;31mAttributeError\u001b[0m: 'str' object has no attribute 'notes'"
     ]
    }
   ],
   "source": []
  },
  {
   "cell_type": "code",
   "execution_count": 35,
   "metadata": {},
   "outputs": [
    {
     "data": {
      "text/plain": [
       "'(MediaItem_Take*)0x00000000057112D0'"
      ]
     },
     "execution_count": 35,
     "metadata": {},
     "output_type": "execute_result"
    }
   ],
   "source": []
  }
 ],
 "metadata": {
  "interpreter": {
   "hash": "d9a5265d8ddcadc2f23676e2d0facc8e37be5a64546466bd06f771773b023cdc"
  },
  "kernelspec": {
   "display_name": "Python 3.10.4 ('.venv': venv)",
   "language": "python",
   "name": "python3"
  },
  "language_info": {
   "codemirror_mode": {
    "name": "ipython",
    "version": 3
   },
   "file_extension": ".py",
   "mimetype": "text/x-python",
   "name": "python",
   "nbconvert_exporter": "python",
   "pygments_lexer": "ipython3",
   "version": "3.10.4"
  },
  "orig_nbformat": 4
 },
 "nbformat": 4,
 "nbformat_minor": 2
}
